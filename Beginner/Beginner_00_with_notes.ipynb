{
  "cells": [
    {
      "cell_type": "code",
      "execution_count": 5,
      "metadata": {
        "id": "sR6sILB3iryS",
        "colab": {
          "base_uri": "https://localhost:8080/",
          "height": 73
        },
        "outputId": "cc9a7cb6-cf29-4056-ba0f-91ebb4cc168c"
      },
      "outputs": [
        {
          "output_type": "display_data",
          "data": {
            "text/plain": [
              "<IPython.core.display.HTML object>"
            ],
            "text/html": [
              "\n",
              "     <input type=\"file\" id=\"files-06248fe0-0da5-4752-9f65-cf81877ac229\" name=\"files[]\" multiple disabled\n",
              "        style=\"border:none\" />\n",
              "     <output id=\"result-06248fe0-0da5-4752-9f65-cf81877ac229\">\n",
              "      Upload widget is only available when the cell has been executed in the\n",
              "      current browser session. Please rerun this cell to enable.\n",
              "      </output>\n",
              "      <script>// Copyright 2017 Google LLC\n",
              "//\n",
              "// Licensed under the Apache License, Version 2.0 (the \"License\");\n",
              "// you may not use this file except in compliance with the License.\n",
              "// You may obtain a copy of the License at\n",
              "//\n",
              "//      http://www.apache.org/licenses/LICENSE-2.0\n",
              "//\n",
              "// Unless required by applicable law or agreed to in writing, software\n",
              "// distributed under the License is distributed on an \"AS IS\" BASIS,\n",
              "// WITHOUT WARRANTIES OR CONDITIONS OF ANY KIND, either express or implied.\n",
              "// See the License for the specific language governing permissions and\n",
              "// limitations under the License.\n",
              "\n",
              "/**\n",
              " * @fileoverview Helpers for google.colab Python module.\n",
              " */\n",
              "(function(scope) {\n",
              "function span(text, styleAttributes = {}) {\n",
              "  const element = document.createElement('span');\n",
              "  element.textContent = text;\n",
              "  for (const key of Object.keys(styleAttributes)) {\n",
              "    element.style[key] = styleAttributes[key];\n",
              "  }\n",
              "  return element;\n",
              "}\n",
              "\n",
              "// Max number of bytes which will be uploaded at a time.\n",
              "const MAX_PAYLOAD_SIZE = 100 * 1024;\n",
              "\n",
              "function _uploadFiles(inputId, outputId) {\n",
              "  const steps = uploadFilesStep(inputId, outputId);\n",
              "  const outputElement = document.getElementById(outputId);\n",
              "  // Cache steps on the outputElement to make it available for the next call\n",
              "  // to uploadFilesContinue from Python.\n",
              "  outputElement.steps = steps;\n",
              "\n",
              "  return _uploadFilesContinue(outputId);\n",
              "}\n",
              "\n",
              "// This is roughly an async generator (not supported in the browser yet),\n",
              "// where there are multiple asynchronous steps and the Python side is going\n",
              "// to poll for completion of each step.\n",
              "// This uses a Promise to block the python side on completion of each step,\n",
              "// then passes the result of the previous step as the input to the next step.\n",
              "function _uploadFilesContinue(outputId) {\n",
              "  const outputElement = document.getElementById(outputId);\n",
              "  const steps = outputElement.steps;\n",
              "\n",
              "  const next = steps.next(outputElement.lastPromiseValue);\n",
              "  return Promise.resolve(next.value.promise).then((value) => {\n",
              "    // Cache the last promise value to make it available to the next\n",
              "    // step of the generator.\n",
              "    outputElement.lastPromiseValue = value;\n",
              "    return next.value.response;\n",
              "  });\n",
              "}\n",
              "\n",
              "/**\n",
              " * Generator function which is called between each async step of the upload\n",
              " * process.\n",
              " * @param {string} inputId Element ID of the input file picker element.\n",
              " * @param {string} outputId Element ID of the output display.\n",
              " * @return {!Iterable<!Object>} Iterable of next steps.\n",
              " */\n",
              "function* uploadFilesStep(inputId, outputId) {\n",
              "  const inputElement = document.getElementById(inputId);\n",
              "  inputElement.disabled = false;\n",
              "\n",
              "  const outputElement = document.getElementById(outputId);\n",
              "  outputElement.innerHTML = '';\n",
              "\n",
              "  const pickedPromise = new Promise((resolve) => {\n",
              "    inputElement.addEventListener('change', (e) => {\n",
              "      resolve(e.target.files);\n",
              "    });\n",
              "  });\n",
              "\n",
              "  const cancel = document.createElement('button');\n",
              "  inputElement.parentElement.appendChild(cancel);\n",
              "  cancel.textContent = 'Cancel upload';\n",
              "  const cancelPromise = new Promise((resolve) => {\n",
              "    cancel.onclick = () => {\n",
              "      resolve(null);\n",
              "    };\n",
              "  });\n",
              "\n",
              "  // Wait for the user to pick the files.\n",
              "  const files = yield {\n",
              "    promise: Promise.race([pickedPromise, cancelPromise]),\n",
              "    response: {\n",
              "      action: 'starting',\n",
              "    }\n",
              "  };\n",
              "\n",
              "  cancel.remove();\n",
              "\n",
              "  // Disable the input element since further picks are not allowed.\n",
              "  inputElement.disabled = true;\n",
              "\n",
              "  if (!files) {\n",
              "    return {\n",
              "      response: {\n",
              "        action: 'complete',\n",
              "      }\n",
              "    };\n",
              "  }\n",
              "\n",
              "  for (const file of files) {\n",
              "    const li = document.createElement('li');\n",
              "    li.append(span(file.name, {fontWeight: 'bold'}));\n",
              "    li.append(span(\n",
              "        `(${file.type || 'n/a'}) - ${file.size} bytes, ` +\n",
              "        `last modified: ${\n",
              "            file.lastModifiedDate ? file.lastModifiedDate.toLocaleDateString() :\n",
              "                                    'n/a'} - `));\n",
              "    const percent = span('0% done');\n",
              "    li.appendChild(percent);\n",
              "\n",
              "    outputElement.appendChild(li);\n",
              "\n",
              "    const fileDataPromise = new Promise((resolve) => {\n",
              "      const reader = new FileReader();\n",
              "      reader.onload = (e) => {\n",
              "        resolve(e.target.result);\n",
              "      };\n",
              "      reader.readAsArrayBuffer(file);\n",
              "    });\n",
              "    // Wait for the data to be ready.\n",
              "    let fileData = yield {\n",
              "      promise: fileDataPromise,\n",
              "      response: {\n",
              "        action: 'continue',\n",
              "      }\n",
              "    };\n",
              "\n",
              "    // Use a chunked sending to avoid message size limits. See b/62115660.\n",
              "    let position = 0;\n",
              "    do {\n",
              "      const length = Math.min(fileData.byteLength - position, MAX_PAYLOAD_SIZE);\n",
              "      const chunk = new Uint8Array(fileData, position, length);\n",
              "      position += length;\n",
              "\n",
              "      const base64 = btoa(String.fromCharCode.apply(null, chunk));\n",
              "      yield {\n",
              "        response: {\n",
              "          action: 'append',\n",
              "          file: file.name,\n",
              "          data: base64,\n",
              "        },\n",
              "      };\n",
              "\n",
              "      let percentDone = fileData.byteLength === 0 ?\n",
              "          100 :\n",
              "          Math.round((position / fileData.byteLength) * 100);\n",
              "      percent.textContent = `${percentDone}% done`;\n",
              "\n",
              "    } while (position < fileData.byteLength);\n",
              "  }\n",
              "\n",
              "  // All done.\n",
              "  yield {\n",
              "    response: {\n",
              "      action: 'complete',\n",
              "    }\n",
              "  };\n",
              "}\n",
              "\n",
              "scope.google = scope.google || {};\n",
              "scope.google.colab = scope.google.colab || {};\n",
              "scope.google.colab._files = {\n",
              "  _uploadFiles,\n",
              "  _uploadFilesContinue,\n",
              "};\n",
              "})(self);\n",
              "</script> "
            ]
          },
          "metadata": {}
        },
        {
          "output_type": "stream",
          "name": "stdout",
          "text": [
            "Saving Salary_dataset.csv to Salary_dataset.csv\n"
          ]
        }
      ],
      "source": [
        "from google.colab import files\n",
        "uploaded = files.upload()"
      ]
    },
    {
      "cell_type": "markdown",
      "source": [
        "Bibliotecas do Python\n",
        "\n",
        "## **Panda** - Manipulação e análise de dados\n",
        "\n",
        "É uma biblioteca usada para ler, limpar, organizar e transformar dados em Python.\n",
        "O nome vem de “panel data” (dados em painéis, muito usados em estatística).\n",
        "\n",
        "*Pra que serve:*\n",
        "\n",
        "Ela fornece estruturas de dados muito poderosas — principalmente o DataFrame, que funciona como uma tabela do Excel, mas dentro do Python.\n",
        "\n",
        "*Principais usos:*\n",
        "\n",
        "*   Ler arquivos como CSV, Excel, JSON, SQL etc.\n",
        "→ pd.read_csv(\"dados.csv\")\n",
        "\n",
        "*   Filtrar, agrupar e ordenar dados.\n",
        "→ data[data[\"idade\"] > 30]\n",
        "\n",
        "*   Calcular médias, somas e estatísticas.\n",
        "→ data[\"salario\"].mean()\n",
        "\n",
        "*   Tratar dados faltantes e duplicados.\n",
        "→ data.dropna(), data.drop_duplicates()\n",
        "\n",
        "\n",
        "## **Seaborn** - visualização de dados\n",
        "\n",
        "É uma biblioteca para criar gráficos bonitos e estatisticamente informativos de forma simples.\n",
        "Ela é construída sobre o Matplotlib, mas com visual mais moderno e comandos mais intuitivos.\n",
        "\n",
        "*Pra que serve:*\n",
        "\n",
        "Pra explorar padrões e relações nos dados de forma visual.\n",
        "\n",
        "*Principais usos:*\n",
        "\n",
        "*   Gráficos de dispersão (scatter plot)\n",
        "*   Gráficos de barras, boxplots, histograma\n",
        "*   Mapas de calor (heatmap)\n",
        "*   Regressões lineares e distribuições\n",
        "\n",
        "## **Scikit-learn** (sklearn)\n",
        "\n",
        "É uma biblioteca Python usada para criar, treinar e avaliar modelos de aprendizado de máquina (Machine Learning).\n",
        "Ela é super usada no mundo real porque é simples, bem documentada e cobre desde o pré-processamento até a modelagem.\n",
        "\n",
        "*Principais usos:*\n",
        "\n",
        "*   Modelos de regressão (prever números, como salário, preço, temperatura)\n",
        "*   Classificação (prever categorias, como “spam/não spam”)\n",
        "*   Agrupamento (clustering) (agrupar dados parecidos)\n",
        "*   Redução de dimensionalidade\n",
        "*   Pré-processamento de dados (normalização, encoding etc.)"
      ],
      "metadata": {
        "id": "_2toHJMqFciP"
      }
    },
    {
      "cell_type": "code",
      "execution_count": 6,
      "metadata": {
        "id": "OdXyZlkJU9n8"
      },
      "outputs": [],
      "source": [
        "# You need to import the pandas and seaborn library\n",
        "import pandas as pd\n",
        "import seaborn as sns"
      ]
    },
    {
      "cell_type": "code",
      "source": [
        "#You have to reproduce this graph"
      ],
      "metadata": {
        "id": "yiujgJ9K9zJX"
      },
      "execution_count": 7,
      "outputs": []
    },
    {
      "cell_type": "code",
      "execution_count": 8,
      "metadata": {
        "id": "bO_c2_ajOETq",
        "colab": {
          "base_uri": "https://localhost:8080/",
          "height": 625
        },
        "outputId": "7136b0c2-5372-4083-9b34-bf21e8dcd76f"
      },
      "outputs": [
        {
          "output_type": "execute_result",
          "data": {
            "text/plain": [
              "<seaborn.axisgrid.JointGrid at 0x7b7e2ef69a30>"
            ]
          },
          "metadata": {},
          "execution_count": 8
        },
        {
          "output_type": "display_data",
          "data": {
            "text/plain": [
              "<Figure size 600x600 with 3 Axes>"
            ],
            "image/png": "[encoded data removed]"
          },
          "metadata": {}
        }
      ],
      "source": [
        "# Read the data from the CSV file with read from pandas\n",
        "data = pd.read_csv(\"Salary_dataset.csv\")\n",
        "\n",
        "# Configure the style\n",
        "sns.set_theme(style=\"darkgrid\", font_scale=0.8)\n",
        "\n",
        "# Plot the data points with seaborn\n",
        "sns.jointplot(data=data, x=\"YearsExperience\", y=\"Salary\", kind=\"scatter\", color=\"#734CAD\")"
      ]
    },
    {
      "cell_type": "markdown",
      "source": [
        "## **LinearRegression**\n",
        "O modelo mais básico de Machine Learning\n",
        "\n",
        "A classe *LinearRegression* implementa a regressão linear, um dos modelos mais simples e fundamentais de Machine Learning supervisionado.\n",
        "\n",
        "Ela tenta encontrar a linha (ou plano) que melhor representa a relação entre uma variável independente (X) e uma variável dependente (Y).\n",
        "\n",
        "No caso em questão:\n",
        "\n",
        "*   X: YearsExperience\n",
        "*   Y: Salary\n",
        "\n",
        "A ideia é achar uma equação da forma:\n",
        "\n",
        "Y = aX + b\n",
        "\n",
        "onde:\n",
        "\n",
        "**a** é o coeficiente angular (quanto o salário aumenta por ano de experiência)\n",
        "\n",
        "**b** é o intercepto (salário inicial estimado com 0 anos de experiência)"
      ],
      "metadata": {
        "id": "E1oMpl9uJym1"
      }
    },
    {
      "cell_type": "code",
      "execution_count": 9,
      "metadata": {
        "id": "n5CIdguSkASi"
      },
      "outputs": [],
      "source": [
        "# We're going to use this library and find out how it works on the Internet\n",
        "from sklearn.linear_model import LinearRegression\n",
        "\n",
        "# Separate the features (YearsExperience) from the target variable (Salary)\n",
        "x = data[[\"YearsExperience\"]]\n",
        "y = data[\"Salary\"]\n",
        "\n",
        "# Create a linear regression model\n",
        "regression = LinearRegression()\n",
        "\n",
        "# Train the model\n",
        "train = regression.fit(x, y)\n",
        "\n",
        "# Predict the Salary values based on YearsExperience\n",
        "predictions = regression.predict(x)\n",
        "data[\"PredictedSalary\"] = predictions"
      ]
    },
    {
      "cell_type": "code",
      "execution_count": 10,
      "metadata": {
        "id": "HVuE8NUZRfqb"
      },
      "outputs": [],
      "source": [
        "#You have to reproduce this graph"
      ]
    },
    {
      "cell_type": "markdown",
      "source": [
        "## lmplot\n",
        "Significa “Linear Model Plot”\n",
        "\n",
        "É um gráfico que mostra a relação entre duas variáveis e ajusta automaticamente um modelo de regressão linear sobre os dados.\n",
        "\n",
        "Quando usamos o lmplot do Seaborn:\n",
        "\n",
        "* Pega as colunas YearsExperience (eixo X) e Salary (eixo Y);\n",
        "* Plota os pontos reais (cada observação do seu dataset);\n",
        "* Calcula automaticamente a linha de regressão linear (sem precisar usar o LinearRegression do sklearn!);\n",
        "* Desenha essa linha de tendência sobre o gráfico."
      ],
      "metadata": {
        "id": "06h1q4Y0Lj4E"
      }
    },
    {
      "cell_type": "code",
      "execution_count": 11,
      "metadata": {
        "id": "Y27O9LGGeGon",
        "colab": {
          "base_uri": "https://localhost:8080/",
          "height": 509
        },
        "outputId": "5d222399-b233-4470-cc0f-25a795bc10ac"
      },
      "outputs": [
        {
          "output_type": "display_data",
          "data": {
            "text/plain": [
              "<Figure size 500x500 with 1 Axes>"
            ],
            "image/png": "[encoded data removed]"
          },
          "metadata": {}
        }
      ],
      "source": [
        "# Create a linear regression plot using lmplot\n",
        "g = sns.lmplot(\n",
        "    data=data,\n",
        "    x=\"YearsExperience\",\n",
        "    y=\"Salary\",\n",
        "    scatter=True,\n",
        "    scatter_kws={\"s\": 20, \"color\": \"#734CAD\"},\n",
        "    line_kws={\"color\": \"#734CAD\"}\n",
        "    )\n",
        "\n",
        "# Set labels and title\n",
        "g.set_axis_labels(\"Years of Experience\", \"Salary\", fontsize=8)\n",
        "g.fig.suptitle(\"Linear Regression: Years of Experience vs Salary\", fontsize=10)\n",
        "g.fig.subplots_adjust(top=0.92)"
      ]
    },
    {
      "cell_type": "code",
      "execution_count": 12,
      "metadata": {
        "id": "sVJISADkOzJ4"
      },
      "outputs": [],
      "source": [
        "# You should have these results with 10 years of expertise, so it's up to you to do your own tests"
      ]
    },
    {
      "cell_type": "code",
      "execution_count": 13,
      "metadata": {
        "id": "bRdhjRjUWYMm",
        "colab": {
          "base_uri": "https://localhost:8080/"
        },
        "outputId": "205aaf5c-85eb-4ab9-e27b-3e59b9376b8d"
      },
      "outputs": [
        {
          "output_type": "stream",
          "name": "stdout",
          "text": [
            "Predicted salary for 15 years of experience: 166597.63878834937\n"
          ]
        }
      ],
      "source": [
        "# Years of experience of the person you want to predict the salary for\n",
        "years_experience = 15\n",
        "\n",
        "# Predict the salary\n",
        "input_data = pd.DataFrame({\"YearsExperience\": [years_experience]})\n",
        "predicted_salary = regression.predict(input_data)[0]\n",
        "\n",
        "# Display the predicted salary\n",
        "print(f\"Predicted salary for {years_experience} years of experience: {predicted_salary}\")"
      ]
    }
  ],
  "metadata": {
    "colab": {
      "provenance": [],
      "toc_visible": true
    },
    "kernelspec": {
      "display_name": "Python 3",
      "name": "python3"
    },
    "language_info": {
      "name": "python"
    }
  },
  "nbformat": 4,
  "nbformat_minor": 0
}